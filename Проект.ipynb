{
 "cells": [
  {
   "cell_type": "code",
   "execution_count": 81,
   "id": "23493f8d",
   "metadata": {},
   "outputs": [],
   "source": [
    "def first_step(login):\n",
    "    if login != 0:\n",
    "        print ('Вы уже зарегистрированы')\n",
    "        main(login)\n",
    "    else:\n",
    "        registration(login)\n",
    "        main(login)"
   ]
  },
  {
   "cell_type": "code",
   "execution_count": 82,
   "id": "d78fb8a2",
   "metadata": {},
   "outputs": [],
   "source": [
    "import json"
   ]
  },
  {
   "cell_type": "code",
   "execution_count": 86,
   "id": "1897751f",
   "metadata": {},
   "outputs": [],
   "source": [
    "def registration (login):\n",
    "    with open('users.json', 'r') as file:\n",
    "        b = (' '.join(json.load(file).keys())).split()\n",
    "    login = input ('Введите ваш логин  ')\n",
    "    while login in b:\n",
    "        login = input ('Такой логин есть в базе.Введите другой   ', )\n",
    "    users[login]={}\n",
    "    users[login]['first_name'] = input ('Введите ваше имя  ')\n",
    "    users[login]['second_name'] = input ('Введите вашю фамилию  ')\n",
    "    users[login]['parol'] = input ('Введите пароль, используя заглавные и прописные латинские буквы, цифры и символы !@#$%^&*()_+-=   ')\n",
    "    with open('users.json', 'w') as file:\n",
    "        json.dump(users, file)\n",
    "    print('Вы зарегестрированы под логином', login)"
   ]
  },
  {
   "cell_type": "code",
   "execution_count": 89,
   "id": "3d6be3f7",
   "metadata": {},
   "outputs": [
    {
     "name": "stdout",
     "output_type": "stream",
     "text": [
      "Введите ваш логин  восьмой\n",
      "Такой логин есть в базе.Введите другой   девятый\n",
      "Введите ваше имя  ывааы\n",
      "Введите вашю фамилию  ыаываыа\n",
      "Введите пароль, используя заглавные и прописные латинские буквы, цифры и символы !@#$%^&*()_+-=   ываываыва\n",
      "Вы зарегестрированы под логином    девятый\n"
     ]
    }
   ],
   "source": [
    "registration (0)"
   ]
  },
  {
   "cell_type": "code",
   "execution_count": 90,
   "id": "7bd1ebcd",
   "metadata": {},
   "outputs": [
    {
     "name": "stdout",
     "output_type": "stream",
     "text": [
      "{'sdfsfs': {'first_name': 'sdfsd', 'second_name': 'sdf', 'parol': 'sdfsf'}, 'dfsdfs': {'first_name': 'sdfsdfs', 'second_name': 'sdfsfs', 'parol': 'dfefe'}, 'первый': {'first_name': 'выа', 'second_name': 'ываыв', 'parol': 'ваыва'}, 'второй': {'first_name': 'вав', 'second_name': 'ваа', 'parol': 'ваав'}, 'третий': {'first_name': 'ваыаы', 'second_name': 'ываыв', 'parol': 'ываывы'}, 'четвертый': {'first_name': 'ываы', 'second_name': 'ывава', 'parol': 'ываыва'}, 'пятый': {'first_name': 'вав', 'second_name': 'ваы', 'parol': 'выаы'}, 'шестой': {'first_name': 'ваыва', 'second_name': 'ываыаы', 'parol': 'ываыва'}, 'восьмой': {'first_name': 'выаы', 'second_name': 'ываыва', 'parol': 'ываыаы'}, 'девятый': {'first_name': 'ывааы', 'second_name': 'ыаываыа', 'parol': 'ываываыва'}}\n"
     ]
    }
   ],
   "source": [
    "with open('users.json', 'r') as file:\n",
    "        users = json.load(file)\n",
    "print(users) "
   ]
  }
 ],
 "metadata": {
  "kernelspec": {
   "display_name": "Python 3",
   "language": "python",
   "name": "python3"
  },
  "language_info": {
   "codemirror_mode": {
    "name": "ipython",
    "version": 3
   },
   "file_extension": ".py",
   "mimetype": "text/x-python",
   "name": "python",
   "nbconvert_exporter": "python",
   "pygments_lexer": "ipython3",
   "version": "3.8.8"
  }
 },
 "nbformat": 4,
 "nbformat_minor": 5
}
