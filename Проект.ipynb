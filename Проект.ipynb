{
 "cells": [
  {
   "cell_type": "code",
   "execution_count": 8,
   "id": "23493f8d",
   "metadata": {},
   "outputs": [],
   "source": [
    "def first_step(login):\n",
    "    if login != 0:\n",
    "        print ('Вы уже зарегистрированы')\n",
    "        main(login)\n",
    "    else:\n",
    "        registration(login)\n",
    "        main(login)"
   ]
  },
  {
   "cell_type": "code",
   "execution_count": 9,
   "id": "d78fb8a2",
   "metadata": {},
   "outputs": [],
   "source": [
    "import json"
   ]
  },
  {
   "cell_type": "code",
   "execution_count": 46,
   "id": "1897751f",
   "metadata": {},
   "outputs": [],
   "source": [
    "def registration (login):\n",
    "    with open('users.json', 'r') as file:\n",
    "        users = json.load(file)\n",
    "    login = input ('Введите ваш логин  ')\n",
    "    if login in users:\n",
    "        answer = input ('Такой логин есть в базе.Предлагаю пройти авторизацию   ', )\n",
    "        vhod(login) if answer == 'да' else registration (login)\n",
    "    users[login]={}\n",
    "    users[login]['first_name'] = input ('Введите ваше имя  ')\n",
    "    users[login]['second_name'] = input ('Введите вашю фамилию  ')\n",
    "    users[login]['parol'] = input ('Введите пароль, используя заглавные и прописные латинские буквы, цифры и символы !@#$%^&*()_+-=   ')\n",
    "    with open('users.json', 'w') as file:\n",
    "        json.dump(users, file)\n",
    "    print('Вы зарегестрированы под логином', login)"
   ]
  },
  {
   "cell_type": "code",
   "execution_count": 50,
   "id": "3d6be3f7",
   "metadata": {},
   "outputs": [
    {
     "name": "stdout",
     "output_type": "stream",
     "text": [
      "Введите ваш логин  sfsfasf\n",
      "Введите ваше имя  sfsfsfsfsdf\n",
      "Введите вашю фамилию  sdfsdfs\n",
      "Введите пароль, используя заглавные и прописные латинские буквы, цифры и символы !@#$%^&*()_+-=   sdssd\n",
      "Вы зарегестрированы под логином sfsfasf\n"
     ]
    }
   ],
   "source": [
    "registration (0)"
   ]
  },
  {
   "cell_type": "code",
   "execution_count": 18,
   "id": "7bd1ebcd",
   "metadata": {},
   "outputs": [
    {
     "name": "stdout",
     "output_type": "stream",
     "text": [
      "{'sfsfs': {'first_name': 'fsfsfsf', 'second_name': 'sfsfsfs', 'parol': 'ssfdsfs'}, 'fedya': {'first_name': 'sfddf', 'second_name': 'sfsdf', 'parol': 'sfsdfs'}, '': {'first_name': 'asfa', 'second_name': 'asf', 'parol': 'sfasf'}, 'sfdsdfs': {'first_name': 'sdfsdfs', 'second_name': 'dsfsdfs', 'parol': 'sfdsdfsf'}, 'egdfgdgd': {'first_name': 'dfgdgdg', 'second_name': 'dgfdgdg', 'parol': 'dgfdgdgd'}, 'sdfsdf': {'first_name': 'sfdsdf', 'second_name': 'sfdsdf', 'parol': 'sfdsdfs'}, 'sdfsf': {'first_name': 'sdfsf', 'second_name': 'sdfsf', 'parol': 'sdfsf'}, 'sdfsdfs': {'first_name': 'sfsf', 'second_name': 'sdfsf', 'parol': 'sdfsfsfs'}, 'sdfsfsf': {'first_name': 'sdfsf', 'second_name': 'sdfsdf', 'parol': 'sdfsfs'}}\n"
     ]
    }
   ],
   "source": [
    "with open('users.json', 'r') as file:\n",
    "        users = json.load(file)\n",
    "print(users) "
   ]
  },
  {
   "cell_type": "code",
   "execution_count": null,
   "id": "conventional-argument",
   "metadata": {},
   "outputs": [],
   "source": []
  }
 ],
 "metadata": {
  "kernelspec": {
   "display_name": "Python 3",
   "language": "python",
   "name": "python3"
  },
  "language_info": {
   "codemirror_mode": {
    "name": "ipython",
    "version": 3
   },
   "file_extension": ".py",
   "mimetype": "text/x-python",
   "name": "python",
   "nbconvert_exporter": "python",
   "pygments_lexer": "ipython3",
   "version": "3.8.8"
  }
 },
 "nbformat": 4,
 "nbformat_minor": 5
}
