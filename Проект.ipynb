{
 "cells": [
  {
   "cell_type": "code",
   "execution_count": 8,
   "id": "23493f8d",
   "metadata": {},
   "outputs": [],
   "source": [
    "def first_step(login):\n",
    "    if login != 0:\n",
    "        print ('Вы уже зарегистрированы')\n",
    "        main(login)\n",
    "    else:\n",
    "        registration(login)\n",
    "        main(login)"
   ]
  },
  {
   "cell_type": "code",
   "execution_count": 9,
   "id": "d78fb8a2",
   "metadata": {},
   "outputs": [],
   "source": [
    "import json"
   ]
  },
  {
   "cell_type": "code",
   "execution_count": 14,
   "id": "1897751f",
   "metadata": {},
   "outputs": [],
   "source": [
    "def registration (login):\n",
    "    with open('users.json', 'r') as file:\n",
    "        b = (' '.join(json.load(file).keys())).split()\n",
    "    login = input ('Введите ваш логин  ')\n",
    "    while login in b:\n",
    "        login = input ('Такой логин есть в базе.Введите другой   ', )\n",
    "    users[login]={}\n",
    "    users[login]['first_name'] = input ('Введите ваше имя  ')\n",
    "    users[login]['second_name'] = input ('Введите вашю фамилию  ')\n",
    "    users[login]['parol'] = input ('Введите пароль, используя заглавные и прописные латинские буквы, цифры и символы !@#$%^&*()_+-=   ')\n",
    "    with open('users.json', 'w') as file:\n",
    "        json.dump(users, file)\n",
    "    print('Вы зарегестрированы под логином', login)"
   ]
  },
  {
   "cell_type": "code",
   "execution_count": 15,
   "id": "3d6be3f7",
   "metadata": {},
   "outputs": [
    {
     "name": "stdout",
     "output_type": "stream",
     "text": [
      "Введите ваш логин  sdfsfsf\n"
     ]
    },
    {
     "ename": "NameError",
     "evalue": "name 'users' is not defined",
     "output_type": "error",
     "traceback": [
      "\u001b[1;31m---------------------------------------------------------------------------\u001b[0m",
      "\u001b[1;31mNameError\u001b[0m                                 Traceback (most recent call last)",
      "\u001b[1;32m<ipython-input-15-d30f54a3159c>\u001b[0m in \u001b[0;36m<module>\u001b[1;34m\u001b[0m\n\u001b[1;32m----> 1\u001b[1;33m \u001b[0mregistration\u001b[0m \u001b[1;33m(\u001b[0m\u001b[1;36m0\u001b[0m\u001b[1;33m)\u001b[0m\u001b[1;33m\u001b[0m\u001b[1;33m\u001b[0m\u001b[0m\n\u001b[0m",
      "\u001b[1;32m<ipython-input-14-6424ccb9c71f>\u001b[0m in \u001b[0;36mregistration\u001b[1;34m(login)\u001b[0m\n\u001b[0;32m      5\u001b[0m     \u001b[1;32mwhile\u001b[0m \u001b[0mlogin\u001b[0m \u001b[1;32min\u001b[0m \u001b[0mb\u001b[0m\u001b[1;33m:\u001b[0m\u001b[1;33m\u001b[0m\u001b[1;33m\u001b[0m\u001b[0m\n\u001b[0;32m      6\u001b[0m         \u001b[0mlogin\u001b[0m \u001b[1;33m=\u001b[0m \u001b[0minput\u001b[0m \u001b[1;33m(\u001b[0m\u001b[1;34m'Такой логин есть в базе.Введите другой   '\u001b[0m\u001b[1;33m,\u001b[0m \u001b[1;33m)\u001b[0m\u001b[1;33m\u001b[0m\u001b[1;33m\u001b[0m\u001b[0m\n\u001b[1;32m----> 7\u001b[1;33m     \u001b[0musers\u001b[0m\u001b[1;33m[\u001b[0m\u001b[0mlogin\u001b[0m\u001b[1;33m]\u001b[0m\u001b[1;33m=\u001b[0m\u001b[1;33m{\u001b[0m\u001b[1;33m}\u001b[0m\u001b[1;33m\u001b[0m\u001b[1;33m\u001b[0m\u001b[0m\n\u001b[0m\u001b[0;32m      8\u001b[0m     \u001b[0musers\u001b[0m\u001b[1;33m[\u001b[0m\u001b[0mlogin\u001b[0m\u001b[1;33m]\u001b[0m\u001b[1;33m[\u001b[0m\u001b[1;34m'first_name'\u001b[0m\u001b[1;33m]\u001b[0m \u001b[1;33m=\u001b[0m \u001b[0minput\u001b[0m \u001b[1;33m(\u001b[0m\u001b[1;34m'Введите ваше имя  '\u001b[0m\u001b[1;33m)\u001b[0m\u001b[1;33m\u001b[0m\u001b[1;33m\u001b[0m\u001b[0m\n\u001b[0;32m      9\u001b[0m     \u001b[0musers\u001b[0m\u001b[1;33m[\u001b[0m\u001b[0mlogin\u001b[0m\u001b[1;33m]\u001b[0m\u001b[1;33m[\u001b[0m\u001b[1;34m'second_name'\u001b[0m\u001b[1;33m]\u001b[0m \u001b[1;33m=\u001b[0m \u001b[0minput\u001b[0m \u001b[1;33m(\u001b[0m\u001b[1;34m'Введите вашю фамилию  '\u001b[0m\u001b[1;33m)\u001b[0m\u001b[1;33m\u001b[0m\u001b[1;33m\u001b[0m\u001b[0m\n",
      "\u001b[1;31mNameError\u001b[0m: name 'users' is not defined"
     ]
    }
   ],
   "source": [
    "registration (0)"
   ]
  },
  {
   "cell_type": "code",
   "execution_count": 12,
   "id": "7bd1ebcd",
   "metadata": {},
   "outputs": [
    {
     "name": "stdout",
     "output_type": "stream",
     "text": [
      "{'kirill': {'first_name': 'Кирюша', 'second_name': 'Андреев', 'parol': 'qwerty123456'}, 'andre': {'first_name': 'Кирилл', 'second_name': 'Андреев', 'parol': 'qwerty123456'}, 'qwerty': {'first_name': 'Кирюша', 'second_name': 'Андреев', 'parol': 'qwerty123456'}}\n"
     ]
    }
   ],
   "source": [
    "with open('users.json', 'r') as file:\n",
    "        users = json.load(file)\n",
    "print(users) "
   ]
  },
  {
   "cell_type": "code",
   "execution_count": null,
   "id": "conventional-argument",
   "metadata": {},
   "outputs": [],
   "source": []
  }
 ],
 "metadata": {
  "kernelspec": {
   "display_name": "Python 3",
   "language": "python",
   "name": "python3"
  },
  "language_info": {
   "codemirror_mode": {
    "name": "ipython",
    "version": 3
   },
   "file_extension": ".py",
   "mimetype": "text/x-python",
   "name": "python",
   "nbconvert_exporter": "python",
   "pygments_lexer": "ipython3",
   "version": "3.8.8"
  }
 },
 "nbformat": 4,
 "nbformat_minor": 5
}
