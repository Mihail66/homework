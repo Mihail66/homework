{
 "cells": [
  {
   "cell_type": "code",
   "execution_count": 48,
   "id": "aeb3c00e",
   "metadata": {},
   "outputs": [],
   "source": [
    "import time as t\n",
    "class Random:\n",
    "      \n",
    "    \n",
    "    def random (self):\n",
    "        rezult = t.process_time()\n",
    "        rezult +=abs(t.time()-round(t.time()))*975**2\n",
    "        while rezult >= 1:\n",
    "            rezult -=1\n",
    "        return(abs(round(rezult,9)))\n",
    "    def randint (self,first_number,last_number):\n",
    "        rezult = round(last_number*(rd.random()*1.52))\n",
    "        while rezult < first_number :\n",
    "            rezult += 1  \n",
    "        while rezult > last_number:\n",
    "             rezult -= 1\n",
    "        return(rezult)\n",
    "    def shuffle(self,*numbers):\n",
    "        numbers = [int(i) for i in numbers]\n",
    "        indexes = [i for i in range(len(numbers))]\n",
    "        first_number = indexes[0]\n",
    "        last_number = indexes[-1]\n",
    "        indx = [rd.randint(first_number,last_number)]\n",
    "        while len(indx) != len(indexes):\n",
    "            a = rd.randint(first_number,last_number)\n",
    "            if a not in indx:\n",
    "                indx.append(a)\n",
    "        rezult = [numbers[i] for i in indx]\n",
    "        return(rezult)\n",
    "    def choice(self,*numbers):\n",
    "        numbers = [int(i) for i in numbers]\n",
    "        indexes = [i for i in range(len(numbers))]\n",
    "        first_number = indexes[0]\n",
    "        last_number = indexes[-1]\n",
    "        indx = [rd.randint(first_number,last_number)]\n",
    "        rezult = [numbers[i] for i in indx]\n",
    "        return(rezult)\n",
    "    def choices(self,*numbers,k):\n",
    "        numbers = [int(i) for i in numbers]\n",
    "        indexes = [i for i in range(len(numbers))]\n",
    "        first_number = indexes[0]\n",
    "        last_number = indexes[-1]\n",
    "        indx = [rd.randint(first_number,last_number)]\n",
    "        if k <= len(indexes):\n",
    "            while len(indx) != k:\n",
    "                a = rd.randint(first_number,last_number)\n",
    "                if a not in indx:\n",
    "                    indx.append(a)\n",
    "        else:\n",
    "            while len(indx) != len(indexes):\n",
    "                a = rd.randint(first_number,last_number)\n",
    "                if a not in indx:\n",
    "                    indx.append(a)\n",
    "            for i in range(k - len(indexes)):\n",
    "                indx.append(rd.randint(first_number,last_number))  \n",
    "        rezult = [numbers[i] for i in indx]\n",
    "        return(rezult)"
   ]
  },
  {
   "cell_type": "code",
   "execution_count": 49,
   "id": "1efd9eb2",
   "metadata": {},
   "outputs": [],
   "source": [
    "rd = Random()"
   ]
  },
  {
   "cell_type": "code",
   "execution_count": 3,
   "id": "354702b3",
   "metadata": {},
   "outputs": [
    {
     "data": {
      "text/plain": [
       "0.155723333"
      ]
     },
     "execution_count": 3,
     "metadata": {},
     "output_type": "execute_result"
    }
   ],
   "source": [
    "rd.random()"
   ]
  },
  {
   "cell_type": "code",
   "execution_count": 4,
   "id": "c525907e",
   "metadata": {},
   "outputs": [
    {
     "data": {
      "text/plain": [
       "5"
      ]
     },
     "execution_count": 4,
     "metadata": {},
     "output_type": "execute_result"
    }
   ],
   "source": [
    "rd.randint(5,7)"
   ]
  },
  {
   "cell_type": "code",
   "execution_count": 5,
   "id": "71724444",
   "metadata": {},
   "outputs": [
    {
     "data": {
      "text/plain": [
       "[3, 4, 1, 7, 8]"
      ]
     },
     "execution_count": 5,
     "metadata": {},
     "output_type": "execute_result"
    }
   ],
   "source": [
    "rd.shuffle(1,8,3,4,7)"
   ]
  },
  {
   "cell_type": "code",
   "execution_count": 6,
   "id": "94ded6db",
   "metadata": {},
   "outputs": [
    {
     "data": {
      "text/plain": [
       "[4]"
      ]
     },
     "execution_count": 6,
     "metadata": {},
     "output_type": "execute_result"
    }
   ],
   "source": [
    "rd.choice(1,4,8,6,7)"
   ]
  },
  {
   "cell_type": "code",
   "execution_count": 50,
   "id": "45ad729e",
   "metadata": {},
   "outputs": [
    {
     "data": {
      "text/plain": [
       "[6, 7, 8, 1, 4, 7]"
      ]
     },
     "execution_count": 50,
     "metadata": {},
     "output_type": "execute_result"
    }
   ],
   "source": [
    "rd.choices(1,4,8,6,7,k=6)"
   ]
  },
  {
   "cell_type": "code",
   "execution_count": null,
   "id": "591251e4",
   "metadata": {},
   "outputs": [],
   "source": []
  }
 ],
 "metadata": {
  "kernelspec": {
   "display_name": "Python 3",
   "language": "python",
   "name": "python3"
  },
  "language_info": {
   "codemirror_mode": {
    "name": "ipython",
    "version": 3
   },
   "file_extension": ".py",
   "mimetype": "text/x-python",
   "name": "python",
   "nbconvert_exporter": "python",
   "pygments_lexer": "ipython3",
   "version": "3.8.8"
  }
 },
 "nbformat": 4,
 "nbformat_minor": 5
}
